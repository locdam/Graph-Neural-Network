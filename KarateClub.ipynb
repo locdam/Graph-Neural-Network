{
 "cells": [
  {
   "cell_type": "code",
   "execution_count": 1,
   "metadata": {},
   "outputs": [
    {
     "name": "stdout",
     "output_type": "stream",
     "text": [
      "Requirement already satisfied: pip in c:\\users\\locda\\appdata\\local\\programs\\python\\python39\\lib\\site-packages (23.0.1)\n",
      "Collecting pip\n",
      "  Downloading pip-23.1.1-py3-none-any.whl (2.1 MB)\n",
      "     ---------------------------------------- 2.1/2.1 MB 16.4 MB/s eta 0:00:00\n",
      "Installing collected packages: pip\n",
      "  Attempting uninstall: pip\n",
      "    Found existing installation: pip 23.0.1\n",
      "    Uninstalling pip-23.0.1:\n",
      "      Successfully uninstalled pip-23.0.1\n",
      "Successfully installed pip-23.1.1\n",
      "Note: you may need to restart the kernel to use updated packages.\n"
     ]
    },
    {
     "name": "stderr",
     "output_type": "stream",
     "text": [
      "WARNING: Ignoring invalid distribution -rotobuf (c:\\users\\locda\\appdata\\local\\programs\\python\\python39\\lib\\site-packages)\n",
      "WARNING: Ignoring invalid distribution -rotobuf (c:\\users\\locda\\appdata\\local\\programs\\python\\python39\\lib\\site-packages)\n",
      "WARNING: Ignoring invalid distribution -rotobuf (c:\\users\\locda\\appdata\\local\\programs\\python\\python39\\lib\\site-packages)\n",
      "    WARNING: Ignoring invalid distribution -rotobuf (c:\\users\\locda\\appdata\\local\\programs\\python\\python39\\lib\\site-packages)\n",
      "WARNING: Ignoring invalid distribution -rotobuf (c:\\users\\locda\\appdata\\local\\programs\\python\\python39\\lib\\site-packages)\n",
      "WARNING: Ignoring invalid distribution -rotobuf (c:\\users\\locda\\appdata\\local\\programs\\python\\python39\\lib\\site-packages)\n",
      "WARNING: Ignoring invalid distribution -rotobuf (c:\\users\\locda\\appdata\\local\\programs\\python\\python39\\lib\\site-packages)\n",
      "WARNING: Ignoring invalid distribution -rotobuf (c:\\users\\locda\\appdata\\local\\programs\\python\\python39\\lib\\site-packages)\n"
     ]
    }
   ],
   "source": [
    "pip install --upgrade pip\n"
   ]
  },
  {
   "cell_type": "code",
   "execution_count": 2,
   "metadata": {},
   "outputs": [
    {
     "name": "stdout",
     "output_type": "stream",
     "text": [
      "Requirement already satisfied: torch in c:\\users\\locda\\appdata\\local\\programs\\python\\python39\\lib\\site-packages (2.0.0)\n",
      "Requirement already satisfied: filelock in c:\\users\\locda\\appdata\\local\\programs\\python\\python39\\lib\\site-packages (from torch) (3.11.0)\n",
      "Requirement already satisfied: typing-extensions in c:\\users\\locda\\appdata\\local\\programs\\python\\python39\\lib\\site-packages (from torch) (3.7.4.3)\n",
      "Requirement already satisfied: sympy in c:\\users\\locda\\appdata\\local\\programs\\python\\python39\\lib\\site-packages (from torch) (1.11.1)\n",
      "Requirement already satisfied: networkx in c:\\users\\locda\\appdata\\local\\programs\\python\\python39\\lib\\site-packages (from torch) (3.1)\n",
      "Requirement already satisfied: jinja2 in c:\\users\\locda\\appdata\\local\\programs\\python\\python39\\lib\\site-packages (from torch) (3.0.0)\n",
      "Requirement already satisfied: MarkupSafe>=2.0.0rc2 in c:\\users\\locda\\appdata\\local\\programs\\python\\python39\\lib\\site-packages (from jinja2->torch) (2.1.2)\n",
      "Requirement already satisfied: mpmath>=0.19 in c:\\users\\locda\\appdata\\local\\programs\\python\\python39\\lib\\site-packages (from sympy->torch) (1.3.0)\n",
      "Note: you may need to restart the kernel to use updated packages.\n"
     ]
    },
    {
     "name": "stderr",
     "output_type": "stream",
     "text": [
      "WARNING: Ignoring invalid distribution -rotobuf (c:\\users\\locda\\appdata\\local\\programs\\python\\python39\\lib\\site-packages)\n",
      "WARNING: Ignoring invalid distribution -rotobuf (c:\\users\\locda\\appdata\\local\\programs\\python\\python39\\lib\\site-packages)\n"
     ]
    }
   ],
   "source": [
    "pip install torch"
   ]
  },
  {
   "cell_type": "code",
   "execution_count": 3,
   "metadata": {},
   "outputs": [
    {
     "name": "stdout",
     "output_type": "stream",
     "text": [
      "Looking in links: https://data.pyg.org/whl/torch-1.11.0+cu113.html\n",
      "Collecting torch-sparse\n",
      "  Using cached torch_sparse-0.6.17.tar.gz (209 kB)\n",
      "  Preparing metadata (setup.py): started\n",
      "  Preparing metadata (setup.py): finished with status 'done'\n",
      "Requirement already satisfied: scipy in c:\\users\\locda\\appdata\\local\\programs\\python\\python39\\lib\\site-packages (from torch-sparse) (1.10.1)\n",
      "Requirement already satisfied: numpy<1.27.0,>=1.19.5 in c:\\users\\locda\\appdata\\local\\programs\\python\\python39\\lib\\site-packages (from scipy->torch-sparse) (1.23.5)\n",
      "Building wheels for collected packages: torch-sparse\n",
      "  Building wheel for torch-sparse (setup.py): started\n",
      "  Building wheel for torch-sparse (setup.py): finished with status 'error'\n",
      "  Running setup.py clean for torch-sparse\n",
      "Failed to build torch-sparse\n"
     ]
    },
    {
     "name": "stderr",
     "output_type": "stream",
     "text": [
      "WARNING: Ignoring invalid distribution -rotobuf (c:\\users\\locda\\appdata\\local\\programs\\python\\python39\\lib\\site-packages)\n",
      "  error: subprocess-exited-with-error\n",
      "  \n",
      "  × python setup.py bdist_wheel did not run successfully.\n",
      "  │ exit code: 1\n",
      "  ╰─> [55 lines of output]\n",
      "      running bdist_wheel\n",
      "      running build\n",
      "      running build_py\n",
      "      creating build\n",
      "      creating build\\lib.win-amd64-3.9\n",
      "      creating build\\lib.win-amd64-3.9\\torch_sparse\n",
      "      copying torch_sparse\\add.py -> build\\lib.win-amd64-3.9\\torch_sparse\n",
      "      copying torch_sparse\\bandwidth.py -> build\\lib.win-amd64-3.9\\torch_sparse\n",
      "      copying torch_sparse\\cat.py -> build\\lib.win-amd64-3.9\\torch_sparse\n",
      "      copying torch_sparse\\coalesce.py -> build\\lib.win-amd64-3.9\\torch_sparse\n",
      "      copying torch_sparse\\convert.py -> build\\lib.win-amd64-3.9\\torch_sparse\n",
      "      copying torch_sparse\\diag.py -> build\\lib.win-amd64-3.9\\torch_sparse\n",
      "      copying torch_sparse\\eye.py -> build\\lib.win-amd64-3.9\\torch_sparse\n",
      "      copying torch_sparse\\index_select.py -> build\\lib.win-amd64-3.9\\torch_sparse\n",
      "      copying torch_sparse\\masked_select.py -> build\\lib.win-amd64-3.9\\torch_sparse\n",
      "      copying torch_sparse\\matmul.py -> build\\lib.win-amd64-3.9\\torch_sparse\n",
      "      copying torch_sparse\\metis.py -> build\\lib.win-amd64-3.9\\torch_sparse\n",
      "      copying torch_sparse\\mul.py -> build\\lib.win-amd64-3.9\\torch_sparse\n",
      "      copying torch_sparse\\narrow.py -> build\\lib.win-amd64-3.9\\torch_sparse\n",
      "      copying torch_sparse\\permute.py -> build\\lib.win-amd64-3.9\\torch_sparse\n",
      "      copying torch_sparse\\reduce.py -> build\\lib.win-amd64-3.9\\torch_sparse\n",
      "      copying torch_sparse\\rw.py -> build\\lib.win-amd64-3.9\\torch_sparse\n",
      "      copying torch_sparse\\saint.py -> build\\lib.win-amd64-3.9\\torch_sparse\n",
      "      copying torch_sparse\\sample.py -> build\\lib.win-amd64-3.9\\torch_sparse\n",
      "      copying torch_sparse\\select.py -> build\\lib.win-amd64-3.9\\torch_sparse\n",
      "      copying torch_sparse\\spadd.py -> build\\lib.win-amd64-3.9\\torch_sparse\n",
      "      copying torch_sparse\\spmm.py -> build\\lib.win-amd64-3.9\\torch_sparse\n",
      "      copying torch_sparse\\spspmm.py -> build\\lib.win-amd64-3.9\\torch_sparse\n",
      "      copying torch_sparse\\storage.py -> build\\lib.win-amd64-3.9\\torch_sparse\n",
      "      copying torch_sparse\\tensor.py -> build\\lib.win-amd64-3.9\\torch_sparse\n",
      "      copying torch_sparse\\testing.py -> build\\lib.win-amd64-3.9\\torch_sparse\n",
      "      copying torch_sparse\\transpose.py -> build\\lib.win-amd64-3.9\\torch_sparse\n",
      "      copying torch_sparse\\typing.py -> build\\lib.win-amd64-3.9\\torch_sparse\n",
      "      copying torch_sparse\\utils.py -> build\\lib.win-amd64-3.9\\torch_sparse\n",
      "      copying torch_sparse\\__init__.py -> build\\lib.win-amd64-3.9\\torch_sparse\n",
      "      running egg_info\n",
      "      writing torch_sparse.egg-info\\PKG-INFO\n",
      "      writing dependency_links to torch_sparse.egg-info\\dependency_links.txt\n",
      "      writing requirements to torch_sparse.egg-info\\requires.txt\n",
      "      writing top-level names to torch_sparse.egg-info\\top_level.txt\n",
      "      reading manifest file 'torch_sparse.egg-info\\SOURCES.txt'\n",
      "      reading manifest template 'MANIFEST.in'\n",
      "      warning: no previously-included files matching '*' found under directory 'third_party\\parallel-hashmap\\css'\n",
      "      warning: no previously-included files matching '*' found under directory 'third_party\\parallel-hashmap\\html'\n",
      "      warning: no previously-included files matching '*' found under directory 'third_party\\parallel-hashmap\\tests'\n",
      "      warning: no previously-included files matching '*' found under directory 'third_party\\parallel-hashmap\\examples'\n",
      "      warning: no previously-included files matching '*' found under directory 'third_party\\parallel-hashmap\\benchmark'\n",
      "      warning: no previously-included files matching '*' found under directory 'test'\n",
      "      warning: no previously-included files matching '*' found under directory 'benchmark'\n",
      "      writing manifest file 'torch_sparse.egg-info\\SOURCES.txt'\n",
      "      running build_ext\n",
      "      c:\\Users\\locda\\AppData\\Local\\Programs\\Python\\Python39\\lib\\site-packages\\torch\\utils\\cpp_extension.py:359: UserWarning: Error checking compiler version for cl: [WinError 2] The system cannot find the file specified\n",
      "        warnings.warn(f'Error checking compiler version for {compiler}: {error}')\n",
      "      building 'torch_sparse._convert_cpu' extension\n",
      "      error: Microsoft Visual C++ 14.0 is required. Get it with \"Build Tools for Visual Studio\": https://visualstudio.microsoft.com/downloads/\n",
      "      [end of output]\n",
      "  \n",
      "  note: This error originates from a subprocess, and is likely not a problem with pip.\n",
      "  ERROR: Failed building wheel for torch-sparse\n",
      "ERROR: Could not build wheels for torch-sparse, which is required to install pyproject.toml-based projects\n"
     ]
    },
    {
     "name": "stdout",
     "output_type": "stream",
     "text": [
      "Looking in links: https://data.pyg.org/whl/torch-1.11.0+cu113.html\n",
      "Collecting torch-scatter\n",
      "  Using cached torch_scatter-2.1.1.tar.gz (107 kB)\n",
      "  Preparing metadata (setup.py): started\n",
      "  Preparing metadata (setup.py): finished with status 'done'\n",
      "Building wheels for collected packages: torch-scatter\n",
      "  Building wheel for torch-scatter (setup.py): started\n",
      "  Building wheel for torch-scatter (setup.py): finished with status 'error'\n",
      "  Running setup.py clean for torch-scatter\n",
      "Failed to build torch-scatter\n"
     ]
    },
    {
     "name": "stderr",
     "output_type": "stream",
     "text": [
      "WARNING: Ignoring invalid distribution -rotobuf (c:\\users\\locda\\appdata\\local\\programs\\python\\python39\\lib\\site-packages)\n",
      "  error: subprocess-exited-with-error\n",
      "  \n",
      "  × python setup.py bdist_wheel did not run successfully.\n",
      "  │ exit code: 1\n",
      "  ╰─> [32 lines of output]\n",
      "      running bdist_wheel\n",
      "      running build\n",
      "      running build_py\n",
      "      creating build\n",
      "      creating build\\lib.win-amd64-3.9\n",
      "      creating build\\lib.win-amd64-3.9\\torch_scatter\n",
      "      copying torch_scatter\\placeholder.py -> build\\lib.win-amd64-3.9\\torch_scatter\n",
      "      copying torch_scatter\\scatter.py -> build\\lib.win-amd64-3.9\\torch_scatter\n",
      "      copying torch_scatter\\segment_coo.py -> build\\lib.win-amd64-3.9\\torch_scatter\n",
      "      copying torch_scatter\\segment_csr.py -> build\\lib.win-amd64-3.9\\torch_scatter\n",
      "      copying torch_scatter\\testing.py -> build\\lib.win-amd64-3.9\\torch_scatter\n",
      "      copying torch_scatter\\utils.py -> build\\lib.win-amd64-3.9\\torch_scatter\n",
      "      copying torch_scatter\\__init__.py -> build\\lib.win-amd64-3.9\\torch_scatter\n",
      "      creating build\\lib.win-amd64-3.9\\torch_scatter\\composite\n",
      "      copying torch_scatter\\composite\\logsumexp.py -> build\\lib.win-amd64-3.9\\torch_scatter\\composite\n",
      "      copying torch_scatter\\composite\\softmax.py -> build\\lib.win-amd64-3.9\\torch_scatter\\composite\n",
      "      copying torch_scatter\\composite\\std.py -> build\\lib.win-amd64-3.9\\torch_scatter\\composite\n",
      "      copying torch_scatter\\composite\\__init__.py -> build\\lib.win-amd64-3.9\\torch_scatter\\composite\n",
      "      running egg_info\n",
      "      writing torch_scatter.egg-info\\PKG-INFO\n",
      "      writing dependency_links to torch_scatter.egg-info\\dependency_links.txt\n",
      "      writing requirements to torch_scatter.egg-info\\requires.txt\n",
      "      writing top-level names to torch_scatter.egg-info\\top_level.txt\n",
      "      reading manifest file 'torch_scatter.egg-info\\SOURCES.txt'\n",
      "      reading manifest template 'MANIFEST.in'\n",
      "      warning: no previously-included files matching '*' found under directory 'test'\n",
      "      writing manifest file 'torch_scatter.egg-info\\SOURCES.txt'\n",
      "      running build_ext\n",
      "      c:\\Users\\locda\\AppData\\Local\\Programs\\Python\\Python39\\lib\\site-packages\\torch\\utils\\cpp_extension.py:359: UserWarning: Error checking compiler version for cl: [WinError 2] The system cannot find the file specified\n",
      "        warnings.warn(f'Error checking compiler version for {compiler}: {error}')\n",
      "      building 'torch_scatter._scatter_cpu' extension\n",
      "      error: Microsoft Visual C++ 14.0 is required. Get it with \"Build Tools for Visual Studio\": https://visualstudio.microsoft.com/downloads/\n",
      "      [end of output]\n",
      "  \n",
      "  note: This error originates from a subprocess, and is likely not a problem with pip.\n",
      "  ERROR: Failed building wheel for torch-scatter\n",
      "ERROR: Could not build wheels for torch-scatter, which is required to install pyproject.toml-based projects\n"
     ]
    },
    {
     "name": "stdout",
     "output_type": "stream",
     "text": [
      "Requirement already satisfied: torch-geometric in c:\\users\\locda\\appdata\\local\\programs\\python\\python39\\lib\\site-packages (2.3.0)\n",
      "Requirement already satisfied: tqdm in c:\\users\\locda\\appdata\\local\\programs\\python\\python39\\lib\\site-packages (from torch-geometric) (4.65.0)\n",
      "Requirement already satisfied: numpy in c:\\users\\locda\\appdata\\local\\programs\\python\\python39\\lib\\site-packages (from torch-geometric) (1.23.5)\n",
      "Requirement already satisfied: scipy in c:\\users\\locda\\appdata\\local\\programs\\python\\python39\\lib\\site-packages (from torch-geometric) (1.10.1)\n",
      "Requirement already satisfied: jinja2 in c:\\users\\locda\\appdata\\local\\programs\\python\\python39\\lib\\site-packages (from torch-geometric) (3.0.0)\n",
      "Requirement already satisfied: requests in c:\\users\\locda\\appdata\\local\\programs\\python\\python39\\lib\\site-packages (from torch-geometric) (2.25.1)\n",
      "Requirement already satisfied: pyparsing in c:\\users\\locda\\appdata\\local\\programs\\python\\python39\\lib\\site-packages (from torch-geometric) (2.4.7)\n",
      "Requirement already satisfied: scikit-learn in c:\\users\\locda\\appdata\\local\\programs\\python\\python39\\lib\\site-packages (from torch-geometric) (1.2.2)\n",
      "Requirement already satisfied: psutil>=5.8.0 in c:\\users\\locda\\appdata\\local\\programs\\python\\python39\\lib\\site-packages (from torch-geometric) (5.9.4)\n",
      "Requirement already satisfied: MarkupSafe>=2.0.0rc2 in c:\\users\\locda\\appdata\\local\\programs\\python\\python39\\lib\\site-packages (from jinja2->torch-geometric) (2.1.2)\n",
      "Requirement already satisfied: chardet<5,>=3.0.2 in c:\\users\\locda\\appdata\\local\\programs\\python\\python39\\lib\\site-packages (from requests->torch-geometric) (4.0.0)\n",
      "Requirement already satisfied: idna<3,>=2.5 in c:\\users\\locda\\appdata\\local\\programs\\python\\python39\\lib\\site-packages (from requests->torch-geometric) (2.10)\n",
      "Requirement already satisfied: urllib3<1.27,>=1.21.1 in c:\\users\\locda\\appdata\\local\\programs\\python\\python39\\lib\\site-packages (from requests->torch-geometric) (1.26.4)\n",
      "Requirement already satisfied: certifi>=2017.4.17 in c:\\users\\locda\\appdata\\local\\programs\\python\\python39\\lib\\site-packages (from requests->torch-geometric) (2020.12.5)\n",
      "Requirement already satisfied: joblib>=1.1.1 in c:\\users\\locda\\appdata\\local\\programs\\python\\python39\\lib\\site-packages (from scikit-learn->torch-geometric) (1.2.0)\n",
      "Requirement already satisfied: threadpoolctl>=2.0.0 in c:\\users\\locda\\appdata\\local\\programs\\python\\python39\\lib\\site-packages (from scikit-learn->torch-geometric) (3.1.0)\n",
      "Requirement already satisfied: colorama in c:\\users\\locda\\appdata\\roaming\\python\\python39\\site-packages (from tqdm->torch-geometric) (0.4.4)\n"
     ]
    },
    {
     "name": "stderr",
     "output_type": "stream",
     "text": [
      "WARNING: Ignoring invalid distribution -rotobuf (c:\\users\\locda\\appdata\\local\\programs\\python\\python39\\lib\\site-packages)\n",
      "WARNING: Ignoring invalid distribution -rotobuf (c:\\users\\locda\\appdata\\local\\programs\\python\\python39\\lib\\site-packages)\n"
     ]
    }
   ],
   "source": [
    "!pip install torch-sparse -f https://data.pyg.org/whl/torch-1.11.0+cu113.html\n",
    "!pip install torch-scatter -f https://data.pyg.org/whl/torch-1.11.0+cu113.html\n",
    "!pip install torch-geometric\n"
   ]
  },
  {
   "cell_type": "code",
   "execution_count": 4,
   "metadata": {},
   "outputs": [],
   "source": [
    "%matplotlib inline\n",
    "import torch\n",
    "import networkx as nx\n",
    "import matplotlib.pyplot as plt"
   ]
  },
  {
   "cell_type": "code",
   "execution_count": null,
   "metadata": {},
   "outputs": [],
   "source": []
  },
  {
   "cell_type": "code",
   "execution_count": null,
   "metadata": {},
   "outputs": [],
   "source": []
  }
 ],
 "metadata": {
  "kernelspec": {
   "display_name": "Python 3",
   "language": "python",
   "name": "python3"
  },
  "language_info": {
   "codemirror_mode": {
    "name": "ipython",
    "version": 3
   },
   "file_extension": ".py",
   "mimetype": "text/x-python",
   "name": "python",
   "nbconvert_exporter": "python",
   "pygments_lexer": "ipython3",
   "version": "3.9.0"
  },
  "orig_nbformat": 4
 },
 "nbformat": 4,
 "nbformat_minor": 2
}
